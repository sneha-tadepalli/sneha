{
 "cells": [
  {
   "cell_type": "code",
   "execution_count": 2,
   "id": "cb2eced8",
   "metadata": {},
   "outputs": [
    {
     "name": "stdout",
     "output_type": "stream",
     "text": [
      "[0 0 0 0 1 0 0 0 0 0]\n"
     ]
    }
   ],
   "source": [
    "#1. Create a null vector of size 10 but the fifth value which is 1.\n",
    "\n",
    "import numpy as np\n",
    "Null_vec = np.array([int(x==4) for x in range(10)])\n",
    "print(Null_vec)"
   ]
  },
  {
   "cell_type": "code",
   "execution_count": 3,
   "id": "275441d7",
   "metadata": {},
   "outputs": [
    {
     "name": "stdout",
     "output_type": "stream",
     "text": [
      "[10 11 12 13 14 15 16 17 18 19 20 21 22 23 24 25 26 27 28 29 30 31 32 33\n",
      " 34 35 36 37 38 39 40 41 42 43 44 45 46 47 48 49]\n"
     ]
    }
   ],
   "source": [
    "#Create a vector with values ranging from 10 to 49\n",
    "\n",
    "Vector = np.arange(10,50)\n",
    "print(Vector)"
   ]
  },
  {
   "cell_type": "code",
   "execution_count": 4,
   "id": "fae4b129",
   "metadata": {},
   "outputs": [
    {
     "data": {
      "text/plain": [
       "array([[0, 1, 2],\n",
       "       [3, 4, 5],\n",
       "       [6, 7, 8]])"
      ]
     },
     "execution_count": 4,
     "metadata": {},
     "output_type": "execute_result"
    }
   ],
   "source": [
    "#3. Create a 3x3 matrix with values ranging from 0 to 8\n",
    "\n",
    "Matrix = np.arange(0,9).reshape(3,3)\n",
    "Matrix"
   ]
  },
  {
   "cell_type": "code",
   "execution_count": 5,
   "id": "6f8419c9",
   "metadata": {},
   "outputs": [
    {
     "name": "stdout",
     "output_type": "stream",
     "text": [
      "indices of non-zero elements are: (array([0, 1, 4], dtype=int64),)\n"
     ]
    }
   ],
   "source": [
    "#4. Find indices of non-zero elements from [1,2,0,0,4,0]\n",
    "\n",
    "indices =np.array([1,2,0,0,4,0])\n",
    "print(\"indices of non-zero elements are:\",np.nonzero(indices))"
   ]
  },
  {
   "cell_type": "code",
   "execution_count": 6,
   "id": "c1894c34",
   "metadata": {},
   "outputs": [
    {
     "name": "stdout",
     "output_type": "stream",
     "text": [
      "Minimum vales: 0.010172203770927424\n",
      "Maximum values: 0.9938264410166311\n",
      "[[0.97029154 0.42855339 0.09102073 0.37548863 0.57480526 0.66512781\n",
      "  0.16179911 0.44187454 0.74058412 0.45368223]\n",
      " [0.11866833 0.23072461 0.71164045 0.03332489 0.53189336 0.95352789\n",
      "  0.15929647 0.65657311 0.26060294 0.59890142]\n",
      " [0.49209864 0.59328195 0.0101722  0.31350295 0.44642356 0.88153556\n",
      "  0.90150005 0.08685795 0.56184147 0.69805761]\n",
      " [0.42915076 0.03572876 0.6628929  0.40705622 0.27134147 0.99382644\n",
      "  0.69372511 0.88594198 0.74331728 0.80578573]\n",
      " [0.90837088 0.53264912 0.26614876 0.15815802 0.72434254 0.85331088\n",
      "  0.27618984 0.27905483 0.17665846 0.68528647]\n",
      " [0.99317362 0.46133818 0.60488021 0.41931566 0.26584102 0.49537194\n",
      "  0.39128546 0.49550961 0.42707912 0.86623068]\n",
      " [0.85970912 0.03939669 0.55981505 0.6182807  0.4351264  0.09336797\n",
      "  0.14547205 0.04930774 0.47203488 0.92452642]\n",
      " [0.98572122 0.27550235 0.08066399 0.81733254 0.64611297 0.85786387\n",
      "  0.12070728 0.71855945 0.50383492 0.56704683]\n",
      " [0.66671389 0.43355904 0.79897052 0.42215128 0.62636401 0.69935336\n",
      "  0.94701169 0.35204224 0.47738995 0.64709416]\n",
      " [0.35736099 0.68228912 0.89925654 0.89126699 0.26159432 0.13934332\n",
      "  0.86970497 0.72335381 0.54008367 0.88843445]]\n"
     ]
    }
   ],
   "source": [
    "#Create a 10x10 array with random values and find the minimum and maximum values.\n",
    "\n",
    "import random\n",
    "random.seed(10)\n",
    "x=np.random.random(size=(10,10))\n",
    "print(\"Minimum vales:\",x.min())\n",
    "print(\"Maximum values:\",x.max())\n",
    "print(x)"
   ]
  },
  {
   "cell_type": "code",
   "execution_count": 7,
   "id": "eccd3603",
   "metadata": {},
   "outputs": [
    {
     "name": "stdout",
     "output_type": "stream",
     "text": [
      "mean: 0.42377281772108666\n"
     ]
    }
   ],
   "source": [
    "#6. Create a random vector of size 30 and find the mean value.\n",
    "ran_vec=np.random.random((5,6))\n",
    "Mean_val =np.mean(ran_vec)\n",
    "print(\"mean:\",Mean_val)"
   ]
  },
  {
   "cell_type": "code",
   "execution_count": null,
   "id": "1d514e89",
   "metadata": {},
   "outputs": [],
   "source": []
  }
 ],
 "metadata": {
  "kernelspec": {
   "display_name": "Python 3 (ipykernel)",
   "language": "python",
   "name": "python3"
  },
  "language_info": {
   "codemirror_mode": {
    "name": "ipython",
    "version": 3
   },
   "file_extension": ".py",
   "mimetype": "text/x-python",
   "name": "python",
   "nbconvert_exporter": "python",
   "pygments_lexer": "ipython3",
   "version": "3.9.6"
  }
 },
 "nbformat": 4,
 "nbformat_minor": 5
}
