{
 "cells": [
  {
   "cell_type": "code",
   "execution_count": 3,
   "id": "d66ca837",
   "metadata": {},
   "outputs": [
    {
     "name": "stdout",
     "output_type": "stream",
     "text": [
      "original string: The quick Brow Fox\n",
      "no:of upper case characters: 3\n",
      "no:of lower case characters: 12\n"
     ]
    }
   ],
   "source": [
    "def string_test(s):\n",
    "    d={\"uppercase\":0,\"lowercase\":0}\n",
    "    for c in s:\n",
    "        if c.isupper():\n",
    "            d[\"uppercase\"]+=1\n",
    "        elif c.islower():\n",
    "             d[\"lowercase\"]+=1\n",
    "        else:\n",
    "             pass\n",
    "    print(\"original string:\" , s)\n",
    "    print(\"no:of upper case characters:\" , d[\"uppercase\"])\n",
    "    print(\"no:of lower case characters:\" , d[\"lowercase\"])\n",
    "\n",
    "string_test(\"The quick Brow Fox\")    "
   ]
  },
  {
   "cell_type": "code",
   "execution_count": null,
   "id": "7df2f87e",
   "metadata": {},
   "outputs": [],
   "source": []
  }
 ],
 "metadata": {
  "kernelspec": {
   "display_name": "Python 3 (ipykernel)",
   "language": "python",
   "name": "python3"
  },
  "language_info": {
   "codemirror_mode": {
    "name": "ipython",
    "version": 3
   },
   "file_extension": ".py",
   "mimetype": "text/x-python",
   "name": "python",
   "nbconvert_exporter": "python",
   "pygments_lexer": "ipython3",
   "version": "3.9.6"
  }
 },
 "nbformat": 4,
 "nbformat_minor": 5
}
