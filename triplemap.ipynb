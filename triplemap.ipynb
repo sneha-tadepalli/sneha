{
 "cells": [
  {
   "cell_type": "code",
   "execution_count": 3,
   "id": "e3848513",
   "metadata": {},
   "outputs": [
    {
     "name": "stdout",
     "output_type": "stream",
     "text": [
      "the triple of list numbers are: [3, 6, 9, 12, 15, 18, 21, 24, 27]\n"
     ]
    }
   ],
   "source": [
    "l1 = [1,2,3,4,5,6,7,8,9]\n",
    "def func(x):\n",
    "    return x*3\n",
    "m1 =list( map(func ,l1))\n",
    "print( \"the triple of list numbers are:\" , m1)"
   ]
  },
  {
   "cell_type": "code",
   "execution_count": null,
   "id": "06a66edd",
   "metadata": {},
   "outputs": [],
   "source": []
  }
 ],
 "metadata": {
  "kernelspec": {
   "display_name": "Python 3 (ipykernel)",
   "language": "python",
   "name": "python3"
  },
  "language_info": {
   "codemirror_mode": {
    "name": "ipython",
    "version": 3
   },
   "file_extension": ".py",
   "mimetype": "text/x-python",
   "name": "python",
   "nbconvert_exporter": "python",
   "pygments_lexer": "ipython3",
   "version": "3.9.6"
  }
 },
 "nbformat": 4,
 "nbformat_minor": 5
}
